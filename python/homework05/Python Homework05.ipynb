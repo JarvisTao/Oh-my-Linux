{
 "cells": [
  {
   "cell_type": "markdown",
   "metadata": {},
   "source": [
    "### 能打出来吗Define a function *evalQuadratic(a, b, c, x)*, and return the result of $ax^2+bx+c$."
   ]
  },
  {
   "cell_type": "code",
   "execution_count": 1,
   "metadata": {
    "scrolled": false
   },
   "outputs": [
    {
     "name": "stdout",
     "output_type": "stream",
     "text": [
      "Please input the val of coef a: 4\n",
      "Please input the val of coef b: 5\n",
      "Please input the val of coef c: 6\n",
      "Please input the val of X: 2\n",
      "The result of 4.0x^2 + 5.0x + 6.0 = 32.0\n"
     ]
    }
   ],
   "source": [
    "from math import *\n",
    "\n",
    "def evalQuadratic(a, b, c, x):\n",
    "    return a * x ** 2 + b * x + c\n",
    "\n",
    "if __name__ == '__main__':\n",
    "    a = float(input(\"Please input the val of coef a: \"))\n",
    "    b = float(input(\"Please input the val of coef b: \"))\n",
    "    c = float(input(\"Please input the val of coef c: \"))\n",
    "    x = float(input(\"Please input the val of X: \"))\n",
    "    result = evalQuadratic(a, b, c, x)\n",
    "    print(\"The result of {}x^2 + {}x + {} = {}\".format(a, b, c, result))"
   ]
  },
  {
   "cell_type": "markdown",
   "metadata": {
    "collapsed": true
   },
   "source": [
    "### Define a function *isprime(x)*, and find the prime between 1 to 100."
   ]
  },
  {
   "cell_type": "code",
   "execution_count": 4,
   "metadata": {},
   "outputs": [
    {
     "name": "stdout",
     "output_type": "stream",
     "text": [
      "The primes in (1, 100) are: \n",
      "2 3 5 7 11 13 17 19 23 29 31 37 41 43 47 53 59 61 67 71 73 79 83 89 97 "
     ]
    }
   ],
   "source": [
    "def isprime(x):\n",
    "    if x < 2:\n",
    "        return False\n",
    "    else:\n",
    "        for i in range(2, round(sqrt(x) + 1)):\n",
    "            if x % i == 0:\n",
    "                return False\n",
    "        return True\n",
    "    \n",
    "print(\"The primes in (1, 100) are: \")\n",
    "for i in range(1, 100):\n",
    "    if isprime(i):\n",
    "        print(i, end = ' ')"
   ]
  },
  {
   "cell_type": "markdown",
   "metadata": {},
   "source": [
    "### Define a function *gcdIter(a, b)* and a function *gcdRecur(a, b)* to find the GCD of two positive integers."
   ]
  },
  {
   "cell_type": "code",
   "execution_count": 5,
   "metadata": {},
   "outputs": [
    {
     "name": "stdout",
     "output_type": "stream",
     "text": [
      "gcd(2,12) =  2\n",
      "gcd(6,12) =  6\n",
      "gcd(9,12) =  3\n",
      "gcd(17,12) =  1\n"
     ]
    }
   ],
   "source": [
    "def gcdIter(a, b):\n",
    "    maxNum = a if a > b else b\n",
    "    minNum = b if a > b else a \n",
    "    while (maxNum % minNum) != 0:\n",
    "        if (maxNum % minNum) > minNum:\n",
    "            maxNum = maxNum % minNum\n",
    "        else:\n",
    "            tempNum = maxNum % minNum\n",
    "            maxNum = minNum\n",
    "            minNum = tempNum\n",
    "    return minNum\n",
    "\n",
    "def gcdRecur(a, b):\n",
    "    maxNum = a if a > b else b\n",
    "    minNum = b if a > b else a \n",
    "    if maxNum % minNum == 0:\n",
    "        return minNum\n",
    "    else:\n",
    "        return gcdRecur(maxNum % minNum, minNum)\n",
    "print(\"gcd(2,12) = \",gcdIter(2,12))\n",
    "print(\"gcd(6,12) = \",gcdRecur(6,12))\n",
    "print(\"gcd(9,12) = \",gcdRecur(9,12))\n",
    "print(\"gcd(17,12) = \",gcdIter(17,12))"
   ]
  },
  {
   "cell_type": "markdown",
   "metadata": {},
   "source": [
    "### Create a module *calculator.py* to calculate the result of add, sub, mult, div of two number; Then create a main function *exec.py* to import the module. "
   ]
  },
  {
   "cell_type": "code",
   "execution_count": 6,
   "metadata": {},
   "outputs": [
    {
     "name": "stdout",
     "output_type": "stream",
     "text": [
      "25 + 56 = 81\n",
      "86 - 68 = 18\n",
      "50 * 60 = 3000\n",
      "99 / 25 = 3.96\n"
     ]
    }
   ],
   "source": [
    "import calculator\n",
    "from functools import reduce\n",
    "print('25 + 56 = {}'.format(calculator.add(25, 56)))\n",
    "print('86 - 68 = {}'.format(calculator.sub(86, 68)))\n",
    "print('50 * 60 = {}'.format(calculator.multi(50, 60)))\n",
    "print('99 / 25 = {}'.format(calculator.div(99, 25)))"
   ]
  },
  {
   "cell_type": "code",
   "execution_count": null,
   "metadata": {
    "collapsed": true
   },
   "outputs": [],
   "source": [
    "# The calculator.py\n",
    "def add(num1, num2):\n",
    "    return num1 + num2\n",
    "\n",
    "def sub(num1, num2):\n",
    "    return num1 - num2\n",
    "\n",
    "def multi(num1, num2):\n",
    "    return num1 * num2\n",
    "\n",
    "def div(num1, num2):\n",
    "    return num1 / num2"
   ]
  },
  {
   "cell_type": "markdown",
   "metadata": {},
   "source": [
    "### Use the function *filter* to find the number that can be divided by 3 and 5; Use the function *reduce* to calculate the sum of odd number in 100; Use the function *map* to calcutor the cubic of even number in 100."
   ]
  },
  {
   "cell_type": "code",
   "execution_count": 14,
   "metadata": {},
   "outputs": [
    {
     "name": "stdout",
     "output_type": "stream",
     "text": [
      "[0, 15, 30, 45, 60, 75, 90]\n",
      "\n",
      "2500\n",
      "\n",
      "[0, 8, 64, 216, 512, 1000, 1728, 2744, 4096, 5832, 8000]\n",
      "[1000, 1728, 2744, 4096, 5832, 8000, 10648, 13824, 17576, 21952, 27000]\n",
      "[8000, 10648, 13824, 17576, 21952, 27000, 32768, 39304, 46656, 54872, 64000]\n",
      "[27000, 32768, 39304, 46656, 54872, 64000, 74088, 85184, 97336, 110592, 125000]\n",
      "[64000, 74088, 85184, 97336, 110592, 125000, 140608, 157464, 175616, 195112, 216000]\n",
      "[125000, 140608, 157464, 175616, 195112, 216000, 238328, 262144, 287496, 314432, 343000]\n",
      "[216000, 238328, 262144, 287496, 314432, 343000, 373248, 405224, 438976, 474552, 512000]\n",
      "[343000, 373248, 405224, 438976, 474552, 512000, 551368, 592704, 636056, 681472, 729000]\n",
      "[512000, 551368, 592704, 636056, 681472, 729000, 778688, 830584, 884736, 941192, 1000000]\n",
      "[729000, 778688, 830584, 884736, 941192, 1000000]\n"
     ]
    }
   ],
   "source": [
    "def canBeDived(x):\n",
    "    if x % 3 == 0 and x % 5 == 0:\n",
    "        return True\n",
    "print(list(filter(canBeDived,range(0,100))))\n",
    "print()\n",
    "#**********************************************\n",
    "def sumODD(x, y):\n",
    "    if y % 2 != 0:\n",
    "        return x + y\n",
    "    return x\n",
    "\n",
    "print(reduce(sumODD,range(1,100)))\n",
    "print()\n",
    "#**********************************************\n",
    "def power3(x):\n",
    "    return x ** 3\n",
    "\n",
    "temp = list(map(power3, range(0,101,2)))\n",
    "for i in range(0, len(temp)-1, len(temp)//10):\n",
    "    print(temp[i:i+11])"
   ]
  },
  {
   "cell_type": "code",
   "execution_count": null,
   "metadata": {
    "collapsed": true
   },
   "outputs": [],
   "source": []
  }
 ],
 "metadata": {
  "kernelspec": {
   "display_name": "Python 3",
   "language": "python",
   "name": "python3"
  },
  "language_info": {
   "codemirror_mode": {
    "name": "ipython",
    "version": 3
   },
   "file_extension": ".py",
   "mimetype": "text/x-python",
   "name": "python",
   "nbconvert_exporter": "python",
   "pygments_lexer": "ipython3",
   "version": "3.6.3"
  }
 },
 "nbformat": 4,
 "nbformat_minor": 2
}
