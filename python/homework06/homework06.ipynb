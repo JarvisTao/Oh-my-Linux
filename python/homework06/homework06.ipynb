{
 "cells": [
  {
   "cell_type": "markdown",
   "metadata": {},
   "source": [
    "## 输出1~100之间不能被7整除的数，每行输出10个数字，要求应用字符串格式化方法（任何一种均可）美化输出格式。"
   ]
  },
  {
   "cell_type": "code",
   "execution_count": 2,
   "metadata": {},
   "outputs": [
    {
     "name": "stdout",
     "output_type": "stream",
     "text": [
      "   1   2   3   4   5   6   8   9  10  11\n",
      "  12  13  15  16  17  18  19  20  22  23\n",
      "  24  25  26  27  29  30  31  32  33  34\n",
      "  36  37  38  39  40  41  43  44  45  46\n",
      "  47  48  50  51  52  53  54  55  57  58\n",
      "  59  60  61  62  64  65  66  67  68  69\n",
      "  71  72  73  74  75  76  78  79  80  81\n",
      "  82  83  85  86  87  88  89  90  92  93\n",
      "  94  95  96  97  99 100"
     ]
    }
   ],
   "source": [
    "#************homework06_1*******************\n",
    "cnt = 0\n",
    "for i in range(101):\n",
    "    if i % 7 != 0:\n",
    "        print(\"{:>4}\".format(i),end = \"\")\n",
    "        cnt += 1\n",
    "    if cnt ==10:\n",
    "        print()\n",
    "        cnt = 0"
   ]
  },
  {
   "cell_type": "markdown",
   "metadata": {},
   "source": [
    "## 假定 s 是小写字母的字符串。编写程序，输出 s 的最长子串（子串必须是字母顺序）。\n",
    "* 若 s = 'azcbobobegghakl'，则应输出：Longest substring in alphabetical order is: beggh\n",
    "\n",
    "* 若 s = 'abcbcd'，则应输出第一个子串：Longest substring in alphabetical order is: abc"
   ]
  },
  {
   "cell_type": "code",
   "execution_count": 12,
   "metadata": {},
   "outputs": [
    {
     "name": "stdout",
     "output_type": "stream",
     "text": [
      "The longest substring of 'azcbobobegghakl' in alphabetical order is: 'beggh'\n",
      "The longest substring of 'abcbcd' in alphabetical order is: 'abc'\n"
     ]
    }
   ],
   "source": [
    "#************homework06_2*******************\n",
    "import re\n",
    "\n",
    "def subString(s):\n",
    "    s_find = \"0\"\n",
    "    for i in range(len(s)-1):\n",
    "        if s[i + 1] >= s[i]:\n",
    "            s_find = s_find + str(int(s_find[i])^0)\n",
    "        else:\n",
    "            s_find = s_find + str(int(s_find[i])^1)\n",
    "\n",
    "    match_0 = re.findall(r'0+',s_find)\n",
    "    match_1 = re.findall(r'1+',s_find)\n",
    "\n",
    "    max_temp = max(match_0 + match_1, key = len)\n",
    "\n",
    "    pos = s_find.find(max_temp)\n",
    "    s_sub = s[pos : pos + len(max_temp)]\n",
    "    return s_sub\n",
    "\n",
    "if __name__ == \"__main__\":\n",
    "    s1 = \"azcbobobegghakl\"\n",
    "    s2 = \"abcbcd\"\n",
    "    s1_sub = subString(s1)\n",
    "    s2_sub = subString(s2)\n",
    "    print(\"The longest substring of '{}' in alphabetical order is: '{}'\"\\\n",
    "          .format(s1,s1_sub))\n",
    "    print(\"The longest substring of '{}' in alphabetical order is: '{}'\"\\\n",
    "          .format(s2,s2_sub))"
   ]
  },
  {
   "cell_type": "markdown",
   "metadata": {},
   "source": [
    "## 编写函数 *OnlyCharNum(s)*，对于给定的字符串只显示字母和数字\n",
    "* 若 s= \"a000 aa-b\"，则程序输出：a000aab"
   ]
  },
  {
   "cell_type": "code",
   "execution_count": 10,
   "metadata": {},
   "outputs": [
    {
     "name": "stdout",
     "output_type": "stream",
     "text": [
      "a000aab\n"
     ]
    }
   ],
   "source": [
    "#************homework06_3*******************\n",
    "import re\n",
    "def OnlyCharNum(s):\n",
    "    match = re.findall(r'\\w+', s)\n",
    "    return \"\".join(match)\n",
    "\n",
    "if __name__ == \"__main__\":\n",
    "    s = \"a000 aa-b\"\n",
    "    print(OnlyCharNum(s))"
   ]
  },
  {
   "cell_type": "markdown",
   "metadata": {},
   "source": [
    "## 假定给定两个字符串（它们可能是空串）s1 和 s2，要将这两个串合并在一起。要求是：s1 串的第一个字符与 s2 串的第一个字符连在一起，后续以此类推。若一个串的长度大于另一个串的长度，则保留长串的剩余字符，即连接到新串的末尾即可。编写函数 *laceStrings(s1,s2)*，完成上述功能。\n",
    "* 若 s1=’abcd’、s2=’efghi’，则新串为：’aebfcgdhi’。"
   ]
  },
  {
   "cell_type": "code",
   "execution_count": 11,
   "metadata": {},
   "outputs": [
    {
     "name": "stdout",
     "output_type": "stream",
     "text": [
      "Please input the 1st string: aapple\n",
      "Please input the 2nd string: bdlise\n",
      "s1 = aapple\n",
      "s2 = bdlise\n",
      "The laceString is abadplpilsee.\n",
      "\n",
      "Please input the 1st string: wdiwiie\n",
      "Please input the 2nd string: abliejlls\n",
      "s1 = wdiwiie\n",
      "s2 = abliejlls\n",
      "The laceString is wadbilwiieijells.\n",
      "\n",
      "Please input the 1st string: abijekekk\n",
      "Please input the 2nd string: zbiejd\n",
      "s1 = abijekekk\n",
      "s2 = zbiejd\n",
      "The laceString is azbbiijeejkdekk.\n",
      "\n"
     ]
    }
   ],
   "source": [
    "#************homework06_4*******************\n",
    "def laceString(s1, s2):\n",
    "\n",
    "    s_lace = \"\" \n",
    "    len1 = len(s1)\n",
    "    len2 = len(s2)\n",
    "\n",
    "    for i in range(min(len1,len2)):\n",
    "        s_lace += s1[i] \n",
    "        s_lace += s2[i]\n",
    "    if len1 > len2:\n",
    "        s_lace += s1[len2 : ]\n",
    "    elif len2 > len1:\n",
    "        s_lace += s2[len1 : ]\n",
    "    \n",
    "    return s_lace\n",
    "\n",
    "\n",
    "if __name__ == \"__main__\":\n",
    "\n",
    "    for i in range(3):\n",
    "        s1 = input(\"Please input the 1st string: \")\n",
    "        s2 = input(\"Please input the 2nd string: \")\n",
    "        s_lace = laceString(s1, s2)\n",
    "        print(\"s1 = {}\\ns2 = {}\".format(s1,s2))\n",
    "        print(\"The laceString is {}.\".format(s_lace))\n",
    "        print()"
   ]
  },
  {
   "cell_type": "code",
   "execution_count": null,
   "metadata": {
    "collapsed": true
   },
   "outputs": [],
   "source": []
  }
 ],
 "metadata": {
  "kernelspec": {
   "display_name": "Python 3",
   "language": "python",
   "name": "python3"
  },
  "language_info": {
   "codemirror_mode": {
    "name": "ipython",
    "version": 3
   },
   "file_extension": ".py",
   "mimetype": "text/x-python",
   "name": "python",
   "nbconvert_exporter": "python",
   "pygments_lexer": "ipython3",
   "version": "3.6.3"
  }
 },
 "nbformat": 4,
 "nbformat_minor": 2
}
